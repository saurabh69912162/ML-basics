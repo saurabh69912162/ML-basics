{
 "cells": [
  {
   "cell_type": "code",
   "execution_count": 101,
   "metadata": {},
   "outputs": [],
   "source": [
    "from sklearn.cluster import MeanShift\n",
    "import matplotlib.pyplot as plt\n",
    "import pandas as pd\n",
    "import numpy as np\n",
    "from sklearn import preprocessing \n",
    "from sklearn.model_selection import train_test_split"
   ]
  },
  {
   "cell_type": "code",
   "execution_count": 102,
   "metadata": {},
   "outputs": [],
   "source": [
    "df = pd.read_excel('titanic.xls')\n",
    "original_df = pd.DataFrame.copy(df)\n",
    "df.drop(['body','name','boat','ticket','home.dest'],1, inplace=True)\n",
    "df.fillna('0.0', inplace=True)\n",
    "df['cabin'].fillna('0.0', inplace=True)\n"
   ]
  },
  {
   "cell_type": "code",
   "execution_count": 103,
   "metadata": {},
   "outputs": [
    {
     "name": "stdout",
     "output_type": "stream",
     "text": [
      "1309\n"
     ]
    }
   ],
   "source": [
    "print(len(df))"
   ]
  },
  {
   "cell_type": "code",
   "execution_count": 104,
   "metadata": {
    "scrolled": true
   },
   "outputs": [
    {
     "name": "stdout",
     "output_type": "stream",
     "text": [
      "['B5' 'C22 C26' 'E12' 'D7' 'A36' 'C101' '0.0' 'C62 C64' 'B35' 'A23'\n",
      " 'B58 B60' 'D15' 'C6' 'D35' 'C148' 'C97' 'B49' 'C99' 'C52' 'T' 'A31' 'C7'\n",
      " 'C103' 'D22' 'E33' 'A21' 'B10' 'B4' 'E40' 'B38' 'E24' 'B51 B53 B55'\n",
      " 'B96 B98' 'C46' 'E31' 'E8' 'B61' 'B77' 'A9' 'C89' 'A14' 'E58' 'E49' 'E52'\n",
      " 'E45' 'B22' 'B26' 'C85' 'E17' 'B71' 'B20' 'A34' 'C86' 'A16' 'A20' 'A18'\n",
      " 'C54' 'C45' 'D20' 'A29' 'C95' 'E25' 'C111' 'C23 C25 C27' 'E36' 'D34'\n",
      " 'D40' 'B39' 'B41' 'B102' 'C123' 'E63' 'C130' 'B86' 'C92' 'A5' 'C51' 'B42'\n",
      " 'C91' 'C125' 'D10 D12' 'B82 B84' 'E50' 'D33' 'C83' 'B94' 'D49' 'D45'\n",
      " 'B69' 'B11' 'E46' 'C39' 'B18' 'D11' 'C93' 'B28' 'C49' 'B52 B54 B56' 'E60'\n",
      " 'C132' 'B37' 'D21' 'D19' 'C124' 'D17' 'B101' 'D28' 'D6' 'D9' 'B80' 'C106'\n",
      " 'B79' 'C47' 'D30' 'C90' 'E38' 'C78' 'C30' 'C118' 'D36' 'D48' 'D47' 'C105'\n",
      " 'B36' 'B30' 'D43' 'B24' 'C2' 'C65' 'B73' 'C104' 'C110' 'C50' 'B3' 'A24'\n",
      " 'A32' 'A11' 'A10' 'B57 B59 B63 B66' 'C28' 'E44' 'A26' 'A6' 'A7' 'C31'\n",
      " 'A19' 'B45' 'E34' 'B78' 'B50' 'C87' 'C116' 'C55 C57' 'D50' 'E68' 'E67'\n",
      " 'C126' 'C68' 'C70' 'C53' 'B19' 'D46' 'D37' 'D26' 'C32' 'C80' 'C82' 'C128'\n",
      " 'E39 E41' 'D' 'F4' 'D56' 'F33' 'E101' 'E77' 'F2' 'D38' 'F' 'F G63'\n",
      " 'F E57' 'F E46' 'F G73' 'E121' 'F E69' 'E10' 'G6' 'F38']\n",
      "187\n"
     ]
    }
   ],
   "source": [
    "print(df['cabin'].unique())\n",
    "print(len(df['cabin'].unique()))\n",
    "\n",
    "cabin_encoder = preprocessing.LabelEncoder()\n",
    "cabin = df['cabin']\n",
    "cabin_cat = cabin_encoder.fit_transform(cabin)\n",
    "df.drop(['cabin'],1, inplace=True)\n",
    "df['cabin_encoded'] = cabin_cat\n"
   ]
  },
  {
   "cell_type": "code",
   "execution_count": 105,
   "metadata": {},
   "outputs": [
    {
     "name": "stdout",
     "output_type": "stream",
     "text": [
      "['female' 'male']\n"
     ]
    }
   ],
   "source": [
    "sex_encoder = preprocessing.LabelEncoder()\n",
    "sex = df['sex']\n",
    "sex_cat = sex_encoder.fit_transform(sex)\n",
    "print(sex_encoder.classes_)\n",
    "df.drop(['sex'],1, inplace=True)\n",
    "df['sex_encoded'] = sex_cat"
   ]
  },
  {
   "cell_type": "code",
   "execution_count": 106,
   "metadata": {},
   "outputs": [
    {
     "name": "stdout",
     "output_type": "stream",
     "text": [
      "['S' 'C' '0.0' 'Q']\n",
      "0       S\n",
      "1       S\n",
      "2       S\n",
      "3       S\n",
      "4       S\n",
      "       ..\n",
      "1304    C\n",
      "1305    C\n",
      "1306    C\n",
      "1307    C\n",
      "1308    S\n",
      "Name: embarked, Length: 1309, dtype: object\n",
      "['0.0' 'C' 'Q' 'S']\n"
     ]
    }
   ],
   "source": [
    "df['embarked'].fillna('0.0', inplace=True)\n",
    "print(df['embarked'].unique())\n",
    "print(df['embarked'])\n",
    "\n",
    "embarked_encoder = preprocessing.LabelEncoder()\n",
    "embarked = df['embarked']\n",
    "embarked_cat = embarked_encoder.fit_transform(embarked)\n",
    "print(embarked_encoder.classes_)\n",
    "df.drop(['embarked'],1, inplace=True)\n",
    "df['embarked_encoded'] = embarked_cat"
   ]
  },
  {
   "cell_type": "code",
   "execution_count": 107,
   "metadata": {},
   "outputs": [
    {
     "name": "stdout",
     "output_type": "stream",
     "text": [
      "   pclass  survived     age  sibsp  parch     fare  cabin_encoded  \\\n",
      "0       1         1      29      0      0  211.338             44   \n",
      "1       1         1  0.9167      1      2   151.55             80   \n",
      "2       1         0       2      1      2   151.55             80   \n",
      "3       1         0      30      1      2   151.55             80   \n",
      "4       1         0      25      1      2   151.55             80   \n",
      "\n",
      "   sex_encoded  embarked_encoded  \n",
      "0            0                 3  \n",
      "1            1                 3  \n",
      "2            0                 3  \n",
      "3            1                 3  \n",
      "4            0                 3  \n"
     ]
    },
    {
     "name": "stderr",
     "output_type": "stream",
     "text": [
      "c:\\users\\saura\\appdata\\local\\programs\\python\\python37-32\\lib\\site-packages\\pandas\\core\\indexing.py:202: SettingWithCopyWarning: \n",
      "A value is trying to be set on a copy of a slice from a DataFrame\n",
      "\n",
      "See the caveats in the documentation: http://pandas.pydata.org/pandas-docs/stable/user_guide/indexing.html#returning-a-view-versus-a-copy\n",
      "  self._setitem_with_indexer(indexer, value)\n"
     ]
    },
    {
     "name": "stdout",
     "output_type": "stream",
     "text": [
      "{0: 0.37826797385620914, 1: 0.11538461538461539, 2: 0.6444444444444445, 3: 1.0, 4: 0.1}\n",
      "            pclass     survived         age        sibsp        parch  \\\n",
      "count  1224.000000  1224.000000  971.000000  1224.000000  1224.000000   \n",
      "mean      2.325980     0.378268   29.788534     0.376634     0.268791   \n",
      "std       0.817298     0.485153   14.080788     0.696547     0.616327   \n",
      "min       1.000000     0.000000    0.166700     0.000000     0.000000   \n",
      "25%       2.000000     0.000000   21.000000     0.000000     0.000000   \n",
      "50%       3.000000     0.000000   28.000000     0.000000     0.000000   \n",
      "75%       3.000000     1.000000   38.000000     1.000000     0.000000   \n",
      "max       3.000000     1.000000   80.000000     4.000000     4.000000   \n",
      "\n",
      "              fare        body  cluster_group  \n",
      "count  1223.000000  112.000000         1224.0  \n",
      "mean     24.968632  162.973214            0.0  \n",
      "std      28.654174   98.946474            0.0  \n",
      "min       0.000000    1.000000            0.0  \n",
      "25%       7.895800   71.500000            0.0  \n",
      "50%      13.000000  167.500000            0.0  \n",
      "75%      27.583300  258.250000            0.0  \n",
      "max     227.525000  328.000000            0.0  \n",
      "       pclass   survived        age      sibsp  parch       fare  body  \\\n",
      "count    26.0  26.000000  18.000000  26.000000   26.0  26.000000   1.0   \n",
      "mean      3.0   0.115385   8.861111   5.615385    2.0  47.253365  67.0   \n",
      "std       0.0   0.325813   4.898396   1.812775    0.0  18.500701   NaN   \n",
      "min       3.0   0.000000   1.000000   4.000000    2.0   7.925000  67.0   \n",
      "25%       3.0   0.000000   5.000000   4.000000    2.0  31.387500  67.0   \n",
      "50%       3.0   0.000000   9.000000   5.000000    2.0  46.900000  67.0   \n",
      "75%       3.0   0.000000  12.500000   8.000000    2.0  69.550000  67.0   \n",
      "max       3.0   1.000000  17.000000   8.000000    2.0  69.550000  67.0   \n",
      "\n",
      "       cluster_group  \n",
      "count           26.0  \n",
      "mean             1.0  \n",
      "std              0.0  \n",
      "min              1.0  \n",
      "25%              1.0  \n",
      "50%              1.0  \n",
      "75%              1.0  \n",
      "max              1.0  \n",
      "       pclass   survived        age      sibsp      parch        fare  \\\n",
      "count    45.0  45.000000  45.000000  45.000000  45.000000   45.000000   \n",
      "mean      1.0   0.644444  37.522222   0.844444   1.355556  206.864631   \n",
      "std       0.0   0.484090  16.572141   0.903417   1.047845   52.871014   \n",
      "min       1.0   0.000000   2.000000   0.000000   0.000000   83.158300   \n",
      "25%       1.0   0.000000  25.000000   0.000000   1.000000  153.462500   \n",
      "50%       1.0   1.000000  36.000000   1.000000   1.000000  221.779200   \n",
      "75%       1.0   1.000000  50.000000   1.000000   2.000000  262.375000   \n",
      "max       1.0   1.000000  67.000000   3.000000   4.000000  263.000000   \n",
      "\n",
      "             body  cluster_group  \n",
      "count    6.000000           45.0  \n",
      "mean   111.500000            2.0  \n",
      "std     36.719205            0.0  \n",
      "min     45.000000            2.0  \n",
      "25%    102.500000            2.0  \n",
      "50%    123.000000            2.0  \n",
      "75%    132.250000            2.0  \n",
      "max    147.000000            2.0  \n",
      "       pclass  survived        age  sibsp    parch      fare  body  \\\n",
      "count     4.0       4.0   4.000000    4.0  4.00000    4.0000   0.0   \n",
      "mean      1.0       1.0  41.000000    0.0  0.50000  512.3292   NaN   \n",
      "std       0.0       0.0  11.343133    0.0  0.57735    0.0000   NaN   \n",
      "min       1.0       1.0  35.000000    0.0  0.00000  512.3292   NaN   \n",
      "25%       1.0       1.0  35.000000    0.0  0.00000  512.3292   NaN   \n",
      "50%       1.0       1.0  35.500000    0.0  0.50000  512.3292   NaN   \n",
      "75%       1.0       1.0  41.500000    0.0  1.00000  512.3292   NaN   \n",
      "max       1.0       1.0  58.000000    0.0  1.00000  512.3292   NaN   \n",
      "\n",
      "       cluster_group  \n",
      "count            4.0  \n",
      "mean             3.0  \n",
      "std              0.0  \n",
      "min              3.0  \n",
      "25%              3.0  \n",
      "50%              3.0  \n",
      "75%              3.0  \n",
      "max              3.0  \n",
      "       pclass   survived        age      sibsp      parch       fare  \\\n",
      "count    10.0  10.000000   8.000000  10.000000  10.000000  10.000000   \n",
      "mean      3.0   0.100000  39.875000   0.800000   6.000000  42.703750   \n",
      "std       0.0   0.316228   1.552648   0.421637   1.632993  15.590194   \n",
      "min       3.0   0.000000  38.000000   0.000000   5.000000  29.125000   \n",
      "25%       3.0   0.000000  39.000000   1.000000   5.000000  31.303125   \n",
      "50%       3.0   0.000000  39.500000   1.000000   5.000000  35.537500   \n",
      "75%       3.0   0.000000  40.250000   1.000000   6.000000  46.900000   \n",
      "max       3.0   1.000000  43.000000   1.000000   9.000000  69.550000   \n",
      "\n",
      "             body  cluster_group  \n",
      "count    2.000000           10.0  \n",
      "mean   234.500000            4.0  \n",
      "std    130.814755            0.0  \n",
      "min    142.000000            4.0  \n",
      "25%    188.250000            4.0  \n",
      "50%    234.500000            4.0  \n",
      "75%    280.750000            4.0  \n",
      "max    327.000000            4.0  \n"
     ]
    }
   ],
   "source": [
    "print(df.head())\n",
    "\n",
    "X = np.array(df.drop(['survived'], 1).astype(float))\n",
    "X = preprocessing.scale(X)\n",
    "y = np.array(df['survived'])\n",
    "\n",
    "clf = MeanShift()\n",
    "clf.fit(X)\n",
    "\n",
    "labels = clf.labels_\n",
    "n_clusters_ = len(np.unique(labels))\n",
    "\n",
    "cluster_centers = clf.cluster_centers_\n",
    "original_df['cluster_group'] = np.nan\n",
    "\n",
    "for i in range(len(X)):\n",
    "    original_df['cluster_group'].iloc[i] = labels[i]\n",
    "    \n",
    "survival_rates = {}\n",
    "\n",
    "for i in range(n_clusters_): \n",
    "    temp_df = original_df[ (original_df['cluster_group']==float(i)) ]\n",
    "    survival_cluster = temp_df[  (temp_df['survived'] == 1) ]\n",
    "    survival_rate = len(survival_cluster) / len(temp_df)\n",
    "    #print(i,survival_rate)\n",
    "    survival_rates[i] = survival_rate\n",
    "    \n",
    "print(survival_rates)\n",
    "print(original_df[ (original_df['cluster_group']==0) ].describe())\n",
    "print(original_df[ (original_df['cluster_group']==1) ].describe())\n",
    "print(original_df[ (original_df['cluster_group']==2) ].describe())\n",
    "print(original_df[ (original_df['cluster_group']==3) ].describe())\n",
    "print(original_df[ (original_df['cluster_group']==4) ].describe())\n",
    "# print(original_df[ (original_df['cluster_group']==5) ].describe())\n",
    "\n",
    "# cluster_0 = original_df[ (original_df['cluster_group']==2)]\n",
    "# cluster_0_fc = cluster_0[ (cluster_0['pclass']==1) ]\n",
    "\n",
    "# cluster_0_fc"
   ]
  }
 ],
 "metadata": {
  "kernelspec": {
   "display_name": "Python 3",
   "language": "python",
   "name": "python3"
  },
  "language_info": {
   "codemirror_mode": {
    "name": "ipython",
    "version": 3
   },
   "file_extension": ".py",
   "mimetype": "text/x-python",
   "name": "python",
   "nbconvert_exporter": "python",
   "pygments_lexer": "ipython3",
   "version": "3.7.4"
  }
 },
 "nbformat": 4,
 "nbformat_minor": 2
}
